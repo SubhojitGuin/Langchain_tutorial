{
 "cells": [
  {
   "cell_type": "code",
   "execution_count": 2,
   "metadata": {},
   "outputs": [
    {
     "name": "stdout",
     "output_type": "stream",
     "text": [
      "Collecting langchain_openai\n",
      "  Downloading langchain_openai-0.1.22-py3-none-any.whl (51 kB)\n",
      "     ---------------------------------------- 0.0/52.0 kB ? eta -:--:--\n",
      "     ----------------------- ---------------- 30.7/52.0 kB 1.3 MB/s eta 0:00:01\n",
      "     -------------------------------------- 52.0/52.0 kB 662.1 kB/s eta 0:00:00\n",
      "Collecting langchain-core<0.3.0,>=0.2.33\n",
      "  Downloading langchain_core-0.2.33-py3-none-any.whl (391 kB)\n",
      "     ---------------------------------------- 0.0/391.5 kB ? eta -:--:--\n",
      "     --------------- ---------------------- 163.8/391.5 kB 3.3 MB/s eta 0:00:01\n",
      "     -------------------------------------- 391.5/391.5 kB 4.1 MB/s eta 0:00:00\n",
      "Collecting tiktoken<1,>=0.7\n",
      "  Downloading tiktoken-0.7.0-cp310-cp310-win_amd64.whl (798 kB)\n",
      "     ---------------------------------------- 0.0/798.9 kB ? eta -:--:--\n",
      "     ------------------- ----------------- 430.1/798.9 kB 13.5 MB/s eta 0:00:01\n",
      "     ----------------------------------- -- 747.5/798.9 kB 9.5 MB/s eta 0:00:01\n",
      "     -------------------------------------  798.7/798.9 kB 8.5 MB/s eta 0:00:01\n",
      "     -------------------------------------- 798.9/798.9 kB 5.6 MB/s eta 0:00:00\n",
      "Collecting openai<2.0.0,>=1.40.0\n",
      "  Downloading openai-1.41.0-py3-none-any.whl (362 kB)\n",
      "     ---------------------------------------- 0.0/362.4 kB ? eta -:--:--\n",
      "     ------------------------------------- 362.4/362.4 kB 11.0 MB/s eta 0:00:00\n",
      "Collecting langsmith<0.2.0,>=0.1.75\n",
      "  Downloading langsmith-0.1.99-py3-none-any.whl (140 kB)\n",
      "     ---------------------------------------- 0.0/140.4 kB ? eta -:--:--\n",
      "     -------------------------------------- 140.4/140.4 kB 8.1 MB/s eta 0:00:00\n",
      "Requirement already satisfied: typing-extensions>=4.7 in c:\\users\\sudeshna pathak\\appdata\\roaming\\python\\python310\\site-packages (from langchain-core<0.3.0,>=0.2.33->langchain_openai) (4.12.2)\n",
      "Collecting jsonpatch<2.0,>=1.33\n",
      "  Downloading jsonpatch-1.33-py2.py3-none-any.whl (12 kB)\n",
      "Collecting pydantic<3,>=1\n",
      "  Downloading pydantic-2.8.2-py3-none-any.whl (423 kB)\n",
      "     ---------------------------------------- 0.0/423.9 kB ? eta -:--:--\n",
      "     ------------------------------------  419.8/423.9 kB 13.2 MB/s eta 0:00:01\n",
      "     -------------------------------------- 423.9/423.9 kB 6.7 MB/s eta 0:00:00\n",
      "Requirement already satisfied: packaging<25,>=23.2 in c:\\users\\sudeshna pathak\\appdata\\roaming\\python\\python310\\site-packages (from langchain-core<0.3.0,>=0.2.33->langchain_openai) (24.1)\n",
      "Collecting PyYAML>=5.3\n",
      "  Downloading PyYAML-6.0.2-cp310-cp310-win_amd64.whl (161 kB)\n",
      "     ---------------------------------------- 0.0/161.8 kB ? eta -:--:--\n",
      "     ------------------------------------ - 153.6/161.8 kB 9.0 MB/s eta 0:00:01\n",
      "     -------------------------------------- 161.8/161.8 kB 3.2 MB/s eta 0:00:00\n",
      "Collecting tenacity!=8.4.0,<9.0.0,>=8.1.0\n",
      "  Downloading tenacity-8.5.0-py3-none-any.whl (28 kB)\n",
      "Collecting sniffio\n",
      "  Downloading sniffio-1.3.1-py3-none-any.whl (10 kB)\n",
      "Collecting jiter<1,>=0.4.0\n",
      "  Downloading jiter-0.5.0-cp310-none-win_amd64.whl (190 kB)\n",
      "     ---------------------------------------- 0.0/191.0 kB ? eta -:--:--\n",
      "     ------------------------------------- 191.0/191.0 kB 12.0 MB/s eta 0:00:00\n",
      "Collecting anyio<5,>=3.5.0\n",
      "  Downloading anyio-4.4.0-py3-none-any.whl (86 kB)\n",
      "     ---------------------------------------- 0.0/86.8 kB ? eta -:--:--\n",
      "     ---------------------------------------- 86.8/86.8 kB 5.1 MB/s eta 0:00:00\n",
      "Collecting httpx<1,>=0.23.0\n",
      "  Downloading httpx-0.27.0-py3-none-any.whl (75 kB)\n",
      "     ---------------------------------------- 0.0/75.6 kB ? eta -:--:--\n",
      "     ---------------------------------------- 75.6/75.6 kB 4.1 MB/s eta 0:00:00\n",
      "Collecting tqdm>4\n",
      "  Downloading tqdm-4.66.5-py3-none-any.whl (78 kB)\n",
      "     ---------------------------------------- 0.0/78.4 kB ? eta -:--:--\n",
      "     ---------------------------------------- 78.4/78.4 kB 1.4 MB/s eta 0:00:00\n",
      "Collecting distro<2,>=1.7.0\n",
      "  Downloading distro-1.9.0-py3-none-any.whl (20 kB)\n",
      "Collecting regex>=2022.1.18\n",
      "  Downloading regex-2024.7.24-cp310-cp310-win_amd64.whl (269 kB)\n",
      "     ---------------------------------------- 0.0/269.7 kB ? eta -:--:--\n",
      "     ------------------------------------  266.2/269.7 kB 16.0 MB/s eta 0:00:01\n",
      "     -------------------------------------- 269.7/269.7 kB 5.5 MB/s eta 0:00:00\n",
      "Collecting requests>=2.26.0\n",
      "  Downloading requests-2.32.3-py3-none-any.whl (64 kB)\n",
      "     ---------------------------------------- 0.0/64.9 kB ? eta -:--:--\n",
      "     ---------------------------------------- 64.9/64.9 kB 1.7 MB/s eta 0:00:00\n",
      "Collecting idna>=2.8\n",
      "  Downloading idna-3.7-py3-none-any.whl (66 kB)\n",
      "     ---------------------------------------- 0.0/66.8 kB ? eta -:--:--\n",
      "     ---------------------------------------- 66.8/66.8 kB 3.5 MB/s eta 0:00:00\n",
      "Requirement already satisfied: exceptiongroup>=1.0.2 in c:\\users\\sudeshna pathak\\appdata\\roaming\\python\\python310\\site-packages (from anyio<5,>=3.5.0->openai<2.0.0,>=1.40.0->langchain_openai) (1.2.2)\n",
      "Collecting httpcore==1.*\n",
      "  Downloading httpcore-1.0.5-py3-none-any.whl (77 kB)\n",
      "     ---------------------------------------- 0.0/77.9 kB ? eta -:--:--\n",
      "     ---------------------------------------- 77.9/77.9 kB 2.2 MB/s eta 0:00:00\n",
      "Collecting certifi\n",
      "  Downloading certifi-2024.7.4-py3-none-any.whl (162 kB)\n",
      "     ---------------------------------------- 0.0/163.0 kB ? eta -:--:--\n",
      "     ------------------------------------- 163.0/163.0 kB 10.2 MB/s eta 0:00:00\n",
      "Collecting h11<0.15,>=0.13\n",
      "  Downloading h11-0.14.0-py3-none-any.whl (58 kB)\n",
      "     ---------------------------------------- 0.0/58.3 kB ? eta -:--:--\n",
      "     ---------------------------------------- 58.3/58.3 kB 3.2 MB/s eta 0:00:00\n",
      "Collecting jsonpointer>=1.9\n",
      "  Downloading jsonpointer-3.0.0-py2.py3-none-any.whl (7.6 kB)\n",
      "Collecting orjson<4.0.0,>=3.9.14\n",
      "  Downloading orjson-3.10.7-cp310-none-win_amd64.whl (137 kB)\n",
      "     ---------------------------------------- 0.0/137.3 kB ? eta -:--:--\n",
      "     -------------------------------- ------- 112.6/137.3 kB ? eta -:--:--\n",
      "     -------------------------------------- 137.3/137.3 kB 1.6 MB/s eta 0:00:00\n",
      "Collecting annotated-types>=0.4.0\n",
      "  Downloading annotated_types-0.7.0-py3-none-any.whl (13 kB)\n",
      "Collecting pydantic-core==2.20.1\n",
      "  Downloading pydantic_core-2.20.1-cp310-none-win_amd64.whl (1.9 MB)\n",
      "     ---------------------------------------- 0.0/1.9 MB ? eta -:--:--\n",
      "     -------- ------------------------------- 0.4/1.9 MB 8.1 MB/s eta 0:00:01\n",
      "     --------------- ------------------------ 0.7/1.9 MB 7.8 MB/s eta 0:00:01\n",
      "     ------------------- -------------------- 0.9/1.9 MB 6.5 MB/s eta 0:00:01\n",
      "     ------------------- -------------------- 0.9/1.9 MB 6.5 MB/s eta 0:00:01\n",
      "     ------------------- -------------------- 0.9/1.9 MB 6.5 MB/s eta 0:00:01\n",
      "     ---------------------- ----------------- 1.1/1.9 MB 3.8 MB/s eta 0:00:01\n",
      "     -------------------------- ------------- 1.2/1.9 MB 3.9 MB/s eta 0:00:01\n",
      "     --------------------------------- ------ 1.6/1.9 MB 4.2 MB/s eta 0:00:01\n",
      "     ----------------------------------- ---- 1.7/1.9 MB 4.3 MB/s eta 0:00:01\n",
      "     -------------------------------------- - 1.9/1.9 MB 4.1 MB/s eta 0:00:01\n",
      "     ---------------------------------------  1.9/1.9 MB 4.0 MB/s eta 0:00:01\n",
      "     ---------------------------------------- 1.9/1.9 MB 3.6 MB/s eta 0:00:00\n",
      "Collecting charset-normalizer<4,>=2\n",
      "  Downloading charset_normalizer-3.3.2-cp310-cp310-win_amd64.whl (100 kB)\n",
      "     ---------------------------------------- 0.0/100.3 kB ? eta -:--:--\n",
      "     ------------------------------------ --- 92.2/100.3 kB ? eta -:--:--\n",
      "     -------------------------------------- 100.3/100.3 kB 2.9 MB/s eta 0:00:00\n",
      "Collecting urllib3<3,>=1.21.1\n",
      "  Downloading urllib3-2.2.2-py3-none-any.whl (121 kB)\n",
      "     ---------------------------------------- 0.0/121.4 kB ? eta -:--:--\n",
      "     -------------------------------------- 121.4/121.4 kB 2.4 MB/s eta 0:00:00\n",
      "Requirement already satisfied: colorama in c:\\users\\sudeshna pathak\\appdata\\roaming\\python\\python310\\site-packages (from tqdm>4->openai<2.0.0,>=1.40.0->langchain_openai) (0.4.6)\n",
      "Installing collected packages: urllib3, tqdm, tenacity, sniffio, regex, PyYAML, pydantic-core, orjson, jsonpointer, jiter, idna, h11, distro, charset-normalizer, certifi, annotated-types, requests, pydantic, jsonpatch, httpcore, anyio, tiktoken, langsmith, httpx, openai, langchain-core, langchain_openai\n",
      "Successfully installed PyYAML-6.0.2 annotated-types-0.7.0 anyio-4.4.0 certifi-2024.7.4 charset-normalizer-3.3.2 distro-1.9.0 h11-0.14.0 httpcore-1.0.5 httpx-0.27.0 idna-3.7 jiter-0.5.0 jsonpatch-1.33 jsonpointer-3.0.0 langchain-core-0.2.33 langchain_openai-0.1.22 langsmith-0.1.99 openai-1.41.0 orjson-3.10.7 pydantic-2.8.2 pydantic-core-2.20.1 regex-2024.7.24 requests-2.32.3 sniffio-1.3.1 tenacity-8.5.0 tiktoken-0.7.0 tqdm-4.66.5 urllib3-2.2.2\n",
      "Note: you may need to restart the kernel to use updated packages.\n"
     ]
    },
    {
     "name": "stderr",
     "output_type": "stream",
     "text": [
      "  WARNING: The script tqdm.exe is installed in 'c:\\Users\\Sudeshna Pathak\\AppData\\Local\\Programs\\Python\\Python310\\Scripts' which is not on PATH.\n",
      "  Consider adding this directory to PATH or, if you prefer to suppress this warning, use --no-warn-script-location.\n",
      "  WARNING: The script distro.exe is installed in 'c:\\Users\\Sudeshna Pathak\\AppData\\Local\\Programs\\Python\\Python310\\Scripts' which is not on PATH.\n",
      "  Consider adding this directory to PATH or, if you prefer to suppress this warning, use --no-warn-script-location.\n",
      "  WARNING: The script normalizer.exe is installed in 'c:\\Users\\Sudeshna Pathak\\AppData\\Local\\Programs\\Python\\Python310\\Scripts' which is not on PATH.\n",
      "  Consider adding this directory to PATH or, if you prefer to suppress this warning, use --no-warn-script-location.\n",
      "  WARNING: The script langsmith.exe is installed in 'c:\\Users\\Sudeshna Pathak\\AppData\\Local\\Programs\\Python\\Python310\\Scripts' which is not on PATH.\n",
      "  Consider adding this directory to PATH or, if you prefer to suppress this warning, use --no-warn-script-location.\n",
      "  WARNING: The script httpx.exe is installed in 'c:\\Users\\Sudeshna Pathak\\AppData\\Local\\Programs\\Python\\Python310\\Scripts' which is not on PATH.\n",
      "  Consider adding this directory to PATH or, if you prefer to suppress this warning, use --no-warn-script-location.\n",
      "  WARNING: The script openai.exe is installed in 'c:\\Users\\Sudeshna Pathak\\AppData\\Local\\Programs\\Python\\Python310\\Scripts' which is not on PATH.\n",
      "  Consider adding this directory to PATH or, if you prefer to suppress this warning, use --no-warn-script-location.\n",
      "\n",
      "[notice] A new release of pip is available: 23.0.1 -> 24.2\n",
      "[notice] To update, run: python.exe -m pip install --upgrade pip\n"
     ]
    }
   ],
   "source": [
    "%pip install langchain_openai\n"
   ]
  },
  {
   "cell_type": "code",
   "execution_count": 3,
   "metadata": {},
   "outputs": [
    {
     "name": "stdout",
     "output_type": "stream",
     "text": [
      "Collecting python-dotenv\n",
      "  Downloading python_dotenv-1.0.1-py3-none-any.whl (19 kB)\n",
      "Installing collected packages: python-dotenv\n",
      "Successfully installed python-dotenv-1.0.1\n",
      "Note: you may need to restart the kernel to use updated packages.\n"
     ]
    },
    {
     "name": "stderr",
     "output_type": "stream",
     "text": [
      "  WARNING: The script dotenv.exe is installed in 'c:\\Users\\Sudeshna Pathak\\AppData\\Local\\Programs\\Python\\Python310\\Scripts' which is not on PATH.\n",
      "  Consider adding this directory to PATH or, if you prefer to suppress this warning, use --no-warn-script-location.\n",
      "\n",
      "[notice] A new release of pip is available: 23.0.1 -> 24.2\n",
      "[notice] To update, run: python.exe -m pip install --upgrade pip\n"
     ]
    }
   ],
   "source": [
    "%pip install python-dotenv"
   ]
  },
  {
   "cell_type": "code",
   "execution_count": 1,
   "metadata": {},
   "outputs": [],
   "source": [
    "from langchain_openai import ChatOpenAI\n",
    "from langchain_core.prompts import ChatPromptTemplate\n",
    "from langchain_core.output_parsers import StrOutputParser\n",
    "import os\n",
    "from dotenv import load_dotenv\n",
    "# import sys\n",
    "# sys.path.append(os.path.dirname(__file__))\n",
    "# import streamlit as st\n",
    "\n",
    "load_dotenv()\n",
    "\n",
    "\n",
    "os.environ[\"OPENAI_API_KEY\"] = os.getenv(\"OPENAI_API_KEY\")\n",
    "#Langsmith tracking\n",
    "os.environ[\"LANGCHAIN_TRACING_V2\"]=\"true\"\n",
    "os.environ[\"LANGCHAIN_API_KEY\"] = os.getenv(\"LANGCHAIN_API_KEY\")\n"
   ]
  },
  {
   "cell_type": "code",
   "execution_count": 3,
   "metadata": {},
   "outputs": [],
   "source": [
    "model = ChatOpenAI(model=\"gpt-3.5-turbo-0125\")"
   ]
  },
  {
   "cell_type": "code",
   "execution_count": 4,
   "metadata": {},
   "outputs": [
    {
     "data": {
      "text/plain": [
       "AIMessage(content='Hello! How can I assist you today?', additional_kwargs={'refusal': None}, response_metadata={'token_usage': {'completion_tokens': 9, 'prompt_tokens': 8, 'total_tokens': 17}, 'model_name': 'gpt-3.5-turbo-0125', 'system_fingerprint': None, 'finish_reason': 'stop', 'logprobs': None}, id='run-e587e145-285a-4796-9014-9414920b0192-0', usage_metadata={'input_tokens': 8, 'output_tokens': 9, 'total_tokens': 17})"
      ]
     },
     "execution_count": 4,
     "metadata": {},
     "output_type": "execute_result"
    }
   ],
   "source": [
    "model.invoke(\"Hi\")\n"
   ]
  }
 ],
 "metadata": {
  "kernelspec": {
   "display_name": "Python 3",
   "language": "python",
   "name": "python3"
  },
  "language_info": {
   "codemirror_mode": {
    "name": "ipython",
    "version": 3
   },
   "file_extension": ".py",
   "mimetype": "text/x-python",
   "name": "python",
   "nbconvert_exporter": "python",
   "pygments_lexer": "ipython3",
   "version": "3.10.11"
  }
 },
 "nbformat": 4,
 "nbformat_minor": 2
}
